{
 "cells": [
  {
   "cell_type": "code",
   "execution_count": 1,
   "id": "a8d579bb-9a6a-4a85-a837-f58af11d40f6",
   "metadata": {},
   "outputs": [
    {
     "data": {
      "text/plain": [
       "(0, {'prob': 1})"
      ]
     },
     "execution_count": 1,
     "metadata": {},
     "output_type": "execute_result"
    }
   ],
   "source": [
    "import gym\n",
    "import matplotlib.pyplot as plt\n",
    "import seaborn as sns\n",
    "import numpy as np\n",
    "env = gym.make(\"FrozenLake-v1\", render_mode=\"human\")\n",
    "env.reset()\n",
    "\n"
   ]
  },
  {
   "cell_type": "code",
   "execution_count": 2,
   "id": "1d0ab67d-b5c8-45a3-8b97-7c52a562cd81",
   "metadata": {},
   "outputs": [
    {
     "data": {
      "text/plain": [
       "Discrete(4)"
      ]
     },
     "execution_count": 2,
     "metadata": {},
     "output_type": "execute_result"
    }
   ],
   "source": [
    "env.action_space"
   ]
  },
  {
   "cell_type": "code",
   "execution_count": 3,
   "id": "d812db00-c9e8-45ee-aa3f-66c26d553449",
   "metadata": {},
   "outputs": [
    {
     "data": {
      "text/plain": [
       "[(0.3333333333333333, 0, 0.0, False),\n",
       " (0.3333333333333333, 4, 0.0, False),\n",
       " (0.3333333333333333, 1, 0.0, False)]"
      ]
     },
     "execution_count": 3,
     "metadata": {},
     "output_type": "execute_result"
    }
   ],
   "source": [
    "env.P[0][1] #env.P[state][action]\n",
    "#actions: 0: west; 1: south; 2: east; 3: north\n",
    "#outputs: (P(s'|s, a); next state; R(s,a,s); isTerminal) \n"
   ]
  },
  {
   "cell_type": "code",
   "execution_count": 5,
   "id": "43788786-78c4-488d-bdef-6ac4bc8d8352",
   "metadata": {},
   "outputs": [],
   "source": [
    "discount = 0.9 \n",
    "#y \n",
    "maxIterations = 1000\n",
    "valueFunctionVector = np.zeros(env.observation_space.n) \n",
    "#initialize value function"
   ]
  },
  {
   "cell_type": "code",
   "execution_count": 6,
   "id": "001b84c0-e13d-49ad-a77e-022d589df35c",
   "metadata": {},
   "outputs": [],
   "source": [
    "for iteration in range(maxIterations):\n",
    "    copy = valueFunctionVector.copy()\n",
    "    for state in env.P:\n",
    "        max_val = float(\"-inf\")\n",
    "        for action in env.P[state]:\n",
    "            q_val = 0\n",
    "            for prob, nextState, reward, isTerminalState in env.P[state][action]:\n",
    "                q_val += prob * (reward + discount * valueFunctionVector[nextState])\n",
    "            if q_val > max_val:\n",
    "                max_val = q_val\n",
    "            copy[state] = max_val\n",
    "    valueFunctionVector = copy"
   ]
  },
  {
   "cell_type": "code",
   "execution_count": 7,
   "id": "f4effdc9-f799-44d2-93c9-d95c7aaded3c",
   "metadata": {},
   "outputs": [
    {
     "name": "stdout",
     "output_type": "stream",
     "text": [
      "[0.0688909  0.06141457 0.07440976 0.05580732 0.09185454 0.\n",
      " 0.11220821 0.         0.14543635 0.24749695 0.29961759 0.\n",
      " 0.         0.3799359  0.63902015 0.        ]\n"
     ]
    }
   ],
   "source": [
    "print(valueFunctionVector)"
   ]
  },
  {
   "cell_type": "code",
   "execution_count": 8,
   "id": "379c9797-8095-44a5-b882-b5e75622ce56",
   "metadata": {},
   "outputs": [],
   "source": [
    "def stepLookahead(state, V):\n",
    "    A = np.zeros(env.action_space.n)\n",
    "    for action in range(env.action_space.n):\n",
    "        for prob, next_state, reward, done in env.P[state][action]:\n",
    "            A[action] += prob * (reward + discount * V[next_state])\n",
    "    return A"
   ]
  },
  {
   "cell_type": "code",
   "execution_count": 9,
   "id": "d35ac357-3383-4f2b-a592-207a772de891",
   "metadata": {},
   "outputs": [],
   "source": [
    "policy = np.zeros([env.observation_space.n, env.action_space.n])\n",
    "for state in range(env.observation_space.n):\n",
    "    action_values = stepLookahead(state, valueFunctionVector)\n",
    "    best_action = np.argmax(action_values)\n",
    "    policy[state, best_action] = 1.0\n"
   ]
  },
  {
   "cell_type": "code",
   "execution_count": 10,
   "id": "c760090c-583e-49ba-9e37-0d11d14c6f2e",
   "metadata": {},
   "outputs": [
    {
     "name": "stdout",
     "output_type": "stream",
     "text": [
      "Reward = 1.0\n"
     ]
    }
   ],
   "source": [
    "\n",
    "\n",
    "#reset env\n",
    "state = env.reset()[0]\n",
    "\n",
    "num_episodes = 1\n",
    "\n",
    "for episode in range(num_episodes):\n",
    "    isTerminal = False\n",
    "    total_reward = 0\n",
    "    \n",
    "    while not isTerminal:\n",
    "        env.render()\n",
    "\n",
    "        #select the action using policy\n",
    "        action = np.argmax(policy[state])\n",
    "\n",
    "        #take the action and observe the result\n",
    "        next_state, reward, isTerminal, _, _ = env.step(action)\n",
    "\n",
    "        total_reward += reward\n",
    "\n",
    "        #move to the next state\n",
    "        state = next_state\n",
    "    \n",
    "    print(f\"Reward = {total_reward}\")\n",
    "\n",
    "\n",
    "env.close()"
   ]
  },
  {
   "cell_type": "code",
   "execution_count": null,
   "id": "4ffc660f-3299-4ec2-87f5-0d27618032c1",
   "metadata": {},
   "outputs": [],
   "source": []
  }
 ],
 "metadata": {
  "kernelspec": {
   "display_name": "Python 3 (ipykernel)",
   "language": "python",
   "name": "python3"
  },
  "language_info": {
   "codemirror_mode": {
    "name": "ipython",
    "version": 3
   },
   "file_extension": ".py",
   "mimetype": "text/x-python",
   "name": "python",
   "nbconvert_exporter": "python",
   "pygments_lexer": "ipython3",
   "version": "3.9.13"
  }
 },
 "nbformat": 4,
 "nbformat_minor": 5
}
