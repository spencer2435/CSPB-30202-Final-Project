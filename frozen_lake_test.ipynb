{
 "cells": [
  {
   "cell_type": "code",
   "execution_count": null,
   "id": "bbc8dd0a-472d-49d4-9c6e-52fb2fe5b659",
   "metadata": {},
   "outputs": [],
   "source": [
    "import gym \n",
    "env = gym.make(\"FrozenLake-v1\", render_mode=\"human\")\n",
    "env.reset()\n"
   ]
  },
  {
   "cell_type": "code",
   "execution_count": null,
   "id": "99d7c110-bc11-43ad-bcd3-f8379744af7c",
   "metadata": {},
   "outputs": [],
   "source": [
    "returnValue = (0, 0, False, False, {'prob': 1.0})\n",
    "while(returnValue[1] == 0):\n",
    "    randomAction = env.action_space.sample()\n",
    "    returnValue = env.step(randomAction)\n",
    "    if returnValue[2] == True:\n",
    "        env.reset()\n",
    "    #print(returnValue)"
   ]
  },
  {
   "cell_type": "code",
   "execution_count": null,
   "id": "6e0ee37f-0dfc-41e4-9dcf-5b0eb3760eb3",
   "metadata": {},
   "outputs": [],
   "source": []
  }
 ],
 "metadata": {
  "kernelspec": {
   "display_name": "Python 3 (ipykernel)",
   "language": "python",
   "name": "python3"
  },
  "language_info": {
   "codemirror_mode": {
    "name": "ipython",
    "version": 3
   },
   "file_extension": ".py",
   "mimetype": "text/x-python",
   "name": "python",
   "nbconvert_exporter": "python",
   "pygments_lexer": "ipython3",
   "version": "3.9.13"
  }
 },
 "nbformat": 4,
 "nbformat_minor": 5
}
